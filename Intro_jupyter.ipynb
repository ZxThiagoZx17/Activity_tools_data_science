{
 "cells": [
  {
   "cell_type": "markdown",
   "metadata": {},
   "source": [
    "2. Title\n",
    "final homework for tools for the data science course"
   ]
  },
  {
   "cell_type": "markdown",
   "metadata": {},
   "source": [
    "3. Introduction\n",
    "In this repository, will be shown several important aspects of the Data science "
   ]
  },
  {
   "cell_type": "markdown",
   "metadata": {},
   "source": [
    "4. Programation languajes for Data Science\n",
    "- Python\n",
    "- R\n",
    "- SQL\n",
    "- Scala\n",
    "- Julia"
   ]
  },
  {
   "cell_type": "markdown",
   "metadata": {},
   "source": [
    "5. Libraries for Data Science\n",
    "- Pandas\n",
    "- NumPy\n",
    "- Matplotlib\n",
    "- Scikit-learn\n",
    "- TensorFlow\n",
    "- Keras\n",
    "- PyTorch"
   ]
  },
  {
   "cell_type": "markdown",
   "metadata": {},
   "source": [
    "6. Tools for Data Science\n",
    "_________________________________________________________________________________\n",
    "| Herramienta             | Descripción                                         |\n",
    "|-------------------------|-----------------------------------------------------|\n",
    "| Jupyter Notebooks       | Entorno interactivo para escribir y ejecutar código |\n",
    "| RStudio                 | Entorno de desarrollo para R                        |\n",
    "| Apache Spark            | Procesamiento distribuido en grandes volúmenes      |\n",
    "| Tableau                 | Herramienta de visualización de datos               |\n",
    "| IBM Watson Studio       | Plataforma para ciencia de datos e IA               |\n",
    "---------------------------------------------------------------------------------"
   ]
  },
  {
   "cell_type": "markdown",
   "metadata": {},
   "source": [
    "7. Arithmetic expresions\n",
    "- Suma: 5 + 3 = 8\n",
    "- Resta: 9 - 4 = 5\n",
    "- Multiplicación: 6 * 7 = 42\n",
    "- División: 15 / 3 = 5"
   ]
  },
  {
   "cell_type": "code",
   "execution_count": 1,
   "metadata": {},
   "outputs": [
    {
     "data": {
      "text/plain": [
       "13"
      ]
     },
     "execution_count": 1,
     "metadata": {},
     "output_type": "execute_result"
    }
   ],
   "source": [
    "#8. Multiplicty and sum of numbers\n",
    "resultado = (5 * 2) + 3\n",
    "resultado"
   ]
  },
  {
   "cell_type": "code",
   "execution_count": 3,
   "metadata": {},
   "outputs": [
    {
     "data": {
      "text/plain": [
       "3.0"
      ]
     },
     "execution_count": 3,
     "metadata": {},
     "output_type": "execute_result"
    }
   ],
   "source": [
    "#9. Minutes to hours\n",
    "minutos = 180\n",
    "horas = minutos / 60\n",
    "horas"
   ]
  },
  {
   "cell_type": "code",
   "execution_count": 6,
   "metadata": {},
   "outputs": [
    {
     "name": "stdout",
     "output_type": "stream",
     "text": [
      "Learning Python libraries\n",
      "Apply algorithm in websites\n",
      "Work with real datas\n"
     ]
    }
   ],
   "source": [
    "#Objectives list\n",
    "objetivos = [\"Learning Python libraries\", \"Apply algorithm in websites\", \"Work with real datas\"]\n",
    "for objetivo in objetivos:\n",
    "    print(objetivo)"
   ]
  },
  {
   "cell_type": "markdown",
   "metadata": {},
   "source": [
    "**Autor: Santiago Sanabria**"
   ]
  }
 ],
 "metadata": {
  "kernelspec": {
   "display_name": "Python 3",
   "language": "python",
   "name": "python3"
  },
  "language_info": {
   "codemirror_mode": {
    "name": "ipython",
    "version": 3
   },
   "file_extension": ".py",
   "mimetype": "text/x-python",
   "name": "python",
   "nbconvert_exporter": "python",
   "pygments_lexer": "ipython3",
   "version": "3.11.2"
  }
 },
 "nbformat": 4,
 "nbformat_minor": 2
}
